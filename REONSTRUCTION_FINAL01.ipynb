{
 "cells": [
  {
   "cell_type": "code",
   "execution_count": 31,
   "metadata": {},
   "outputs": [],
   "source": [
    "import random\n",
    "import torch\n",
    "import torch.nn as nn\n",
    "import torch.nn.functional as F\n",
    "import torch.optim as optim\n",
    "import h5py, os\n",
    "import numpy as np\n",
    "from torch.utils.data import DataLoader\n",
    "import torchvision.utils as vutils\n",
    "from functions import transforms as T\n",
    "from functions.subsample import MaskFunc\n",
    "from scipy.io import loadmat\n",
    "from matplotlib import pyplot as plt\n",
    "import csv\n",
    "import time\n",
    "from skimage.measure import compare_ssim "
   ]
  },
  {
   "cell_type": "code",
   "execution_count": 32,
   "metadata": {},
   "outputs": [],
   "source": [
    "modtype='3L_CNN_8af'\n",
    "best_model='3L_CNN_3.pth'\n",
    "model_base_path='/home/students/lxr863/NeuralComp_G42-master/'+modtype\n",
    "test_file_path='/data/local/NC2019MRI//test'\n",
    "train_file_path='/data/local/NC2019MRI/train'\n",
    "validate_file_path='/data/local/NC2019MRI/train'"
   ]
  },
  {
   "cell_type": "code",
   "execution_count": 33,
   "metadata": {},
   "outputs": [
    {
     "name": "stdout",
     "output_type": "stream",
     "text": [
      "cuda:0\n"
     ]
    }
   ],
   "source": [
    "device = 'cuda:0' if torch.cuda.is_available() else 'cpu'  # check whether a GPU is available\n",
    "print(device)"
   ]
  },
  {
   "cell_type": "code",
   "execution_count": 34,
   "metadata": {},
   "outputs": [
    {
     "name": "stdout",
     "output_type": "stream",
     "text": [
      "filename: 3L_CNN_1.pth\n",
      "filename: 3L_CNN_3.pth\n",
      "filename: 3L_CNN_6.pth\n",
      "filename: 3L_CNN_7.pth\n"
     ]
    }
   ],
   "source": [
    "for fname in sorted(os.listdir(model_base_path)):\n",
    "    print('filename:',fname)"
   ]
  },
  {
   "cell_type": "code",
   "execution_count": 35,
   "metadata": {},
   "outputs": [
    {
     "name": "stdout",
     "output_type": "stream",
     "text": [
      "3L_CNN\n"
     ]
    }
   ],
   "source": [
    "if modtype=='3L_CNN_8af' or modtype=='3L_CNN_4af':\n",
    "    class CNN_3L(nn.Module):\n",
    "        def __init__(self):\n",
    "            super(CNN_3L,self).__init__()\n",
    "            ### Patch Extraction n1=64 c=1 f1=9\n",
    "            self.block1=nn.Conv2d(1,64,kernel_size=9,padding=2)\n",
    "            ### Non-Linear Mapping n2=n1=64 f2=1\n",
    "            self.block2=nn.Conv2d(64,32,kernel_size=1,padding=2)\n",
    "            ### Image Reconstruction n3=n2=32 f3=5\n",
    "            self.block3=nn.Conv2d(32,1,kernel_size=5,padding=2)\n",
    "            self.RELU=nn.ReLU()\n",
    "        def forward(self,out):\n",
    "            out=self.block1(out)\n",
    "            out=self.RELU(out)\n",
    "            out=self.block2(out)\n",
    "            out=self.RELU(out)\n",
    "            out=self.block3(out)\n",
    "            return out\n",
    "    print('3L_CNN')\n",
    "elif modtype=='4L_CNN_8af' or modtype=='4L_CNN_4af':\n",
    "    class CNN_4L(nn.Module):\n",
    "        def __init__(self):\n",
    "            super(CNN_4L,self).__init__()\n",
    "            ### Patch Extraction n1=64 c=1 f1=9\n",
    "            self.block1=nn.Conv2d(1,64,kernel_size=9,padding=2)\n",
    "            ### Non-Linear Mapping n2=n1=64 f2=1\n",
    "            self.block2=nn.Conv2d(64,64,kernel_size=1,padding=2)\n",
    "            ### Image Reconstruction n3=n2=32 f3=5\n",
    "            self.block3=nn.Conv2d(64,32,kernel_size=5,padding=2)\n",
    "            ### Image Reconstruction n4=n=32 f3=3\n",
    "            self.block4=nn.Conv2d(32,1,kernel_size=3,padding=1)\n",
    "            self.RELU=nn.ReLU()\n",
    "        def forward(self,out):\n",
    "            out=self.block1(out)\n",
    "            out=self.RELU(out)\n",
    "            out=self.block2(out)\n",
    "            out=self.RELU(out)\n",
    "            out=self.block3(out)\n",
    "            out=self.RELU(out)\n",
    "            out=self.block4(out)\n",
    "            return out\n",
    "    print('4L_CNN')\n",
    "elif modtype=='UNet_8af' or modtype=='DCGAN':\n",
    "    class DoubleConv(nn.Module):\n",
    "        def __init__(self, in_channels, out_channels):\n",
    "            super().__init__()\n",
    "            self.double_conv = nn.Sequential(\n",
    "                nn.Conv2d(in_channels, out_channels, kernel_size=3, padding=1),\n",
    "                nn.BatchNorm2d(out_channels),\n",
    "                nn.ReLU(inplace=True),\n",
    "                nn.Conv2d(out_channels, out_channels, kernel_size=3, padding=1),\n",
    "                nn.BatchNorm2d(out_channels),\n",
    "                nn.ReLU(inplace=True)\n",
    "            )\n",
    "        def forward(self, x):\n",
    "            return self.double_conv(x)\n",
    "\n",
    "    class Down(nn.Module):\n",
    "        def __init__(self, in_channels, out_channels):\n",
    "            super().__init__()\n",
    "            self.maxpool_conv = nn.Sequential(\n",
    "                nn.MaxPool2d(2),\n",
    "                DoubleConv(in_channels, out_channels)\n",
    "            )\n",
    "        def forward(self, x):\n",
    "            return self.maxpool_conv(x)\n",
    "\n",
    "    class Up(nn.Module):\n",
    "        def __init__(self, in_channels, out_channels, bilinear=True):\n",
    "            super().__init__()\n",
    "            if bilinear:\n",
    "                self.up = nn.Upsample(scale_factor=2, mode='bilinear', align_corners=True)\n",
    "            else:\n",
    "                self.up = nn.ConvTranspose2d(in_channels // 2, in_channels // 2, kernel_size=2, stride=2)\n",
    "            self.conv = DoubleConv(in_channels, out_channels)\n",
    "        def forward(self, x1, x2):\n",
    "            x1 = self.up(x1)\n",
    "            # input is CHW\n",
    "            diffY = x2.size()[2] - x1.size()[2]\n",
    "            diffX = x2.size()[3] - x1.size()[3]\n",
    "            x1 = F.pad(x1, [diffX // 2, diffX - diffX // 2,\n",
    "                            diffY // 2, diffY - diffY // 2])\n",
    "            x = torch.cat([x2, x1], dim=1)\n",
    "            return self.conv(x)\n",
    "\n",
    "    class OutConv(nn.Module):\n",
    "        def __init__(self, in_channels, out_channels):\n",
    "            super(OutConv, self).__init__()\n",
    "            self.conv = nn.Conv2d(in_channels, out_channels, kernel_size=1)\n",
    "        def forward(self, x):\n",
    "            return self.conv(x)\n",
    "\n",
    "    class UNet(nn.Module):\n",
    "        def __init__(self, n_channels, n_classes, bilinear=True):\n",
    "            super(UNet, self).__init__()\n",
    "            self.n_channels = n_channels\n",
    "            self.n_classes = n_classes\n",
    "            self.bilinear = bilinear\n",
    "            self.inc = DoubleConv(n_channels, 64)\n",
    "            self.down1 = Down(64, 128)\n",
    "            self.down2 = Down(128, 256)\n",
    "            self.down3 = Down(256, 512)\n",
    "            self.down4 = Down(512, 512)\n",
    "            self.up1 = Up(1024, 256, bilinear)\n",
    "            self.up2 = Up(512, 128, bilinear)\n",
    "            self.up3 = Up(256, 64, bilinear)\n",
    "            self.up4 = Up(128, 64, bilinear)\n",
    "            self.outc = OutConv(64, n_classes)\n",
    "        def forward(self, x):\n",
    "            x1 = self.inc(x)\n",
    "            x2 = self.down1(x1)\n",
    "            x3 = self.down2(x2)\n",
    "            x4 = self.down3(x3)\n",
    "            x5 = self.down4(x4)\n",
    "            x = self.up1(x5, x4)\n",
    "            x = self.up2(x, x3)\n",
    "            x = self.up3(x, x2)\n",
    "            x = self.up4(x, x1)\n",
    "            logits = self.outc(x)\n",
    "            return logits\n",
    "        \n",
    "    class Generator(nn.Module):\n",
    "        def __init__(self, n_channels, n_classes, bilinear=True):\n",
    "            super(Generator, self).__init__()\n",
    "            self.n_channels = n_channels\n",
    "            self.n_classes = n_classes\n",
    "            self.bilinear = bilinear\n",
    "            self.inc = DoubleConv(n_channels, 64)\n",
    "            self.down1 = Down(64, 128)\n",
    "            self.down2 = Down(128, 256)\n",
    "            self.down3 = Down(256, 512)\n",
    "            self.down4 = Down(512, 512)\n",
    "            self.up1 = Up(1024, 256, bilinear)\n",
    "            self.up2 = Up(512, 128, bilinear)\n",
    "            self.up3 = Up(256, 64, bilinear)\n",
    "            self.up4 = Up(128, 64, bilinear) \n",
    "            self.outc = OutConv(64, n_classes)\n",
    "        def forward(self, x):\n",
    "            x1 = self.inc(x)\n",
    "            x2 = self.down1(x1)\n",
    "            x3 = self.down2(x2)\n",
    "            x4 = self.down3(x3)\n",
    "            x5 = self.down4(x4)\n",
    "            x = self.up1(x5, x4)\n",
    "            x = self.up2(x, x3)\n",
    "            x = self.up3(x, x2)\n",
    "            x = self.up4(x, x1)\n",
    "            logits = self.outc(x)\n",
    "            return logits\n",
    "        \n",
    "    class Discriminator(nn.Module):\n",
    "        def __init__(self, ngpu):\n",
    "            super(Discriminator, self).__init__()\n",
    "            self.ngpu = ngpu\n",
    "            self.main = nn.Sequential(\n",
    "                # input is (nc) x 64 x 64\n",
    "                nn.Conv2d(nc, ndf, 4, 3, 1, bias=False),\n",
    "                nn.LeakyReLU(0.2, inplace=True),\n",
    "\n",
    "                # state size. (ndf) x 32 x 32\n",
    "                nn.Conv2d(ndf, ndf * 2, 4, 3, 1, bias=False),\n",
    "                nn.BatchNorm2d(ndf * 2),\n",
    "                nn.LeakyReLU(0.2, inplace=True),\n",
    "                # state size. (ndf*2) x 16 x 16\n",
    "                nn.Conv2d(ndf * 2, ndf * 4, 4, 3, 1, bias=False),\n",
    "                nn.BatchNorm2d(ndf * 4),\n",
    "                nn.LeakyReLU(0.2, inplace=True),\n",
    "                # state size. (ndf*4) x 8 x 8\n",
    "                nn.Conv2d(ndf * 4, ndf * 8, 4, 2, 0, bias=False),\n",
    "                nn.BatchNorm2d(ndf * 8),\n",
    "                nn.LeakyReLU(0.2, inplace=True),\n",
    "                # state size. (ndf*8) x 4 x 4\n",
    "                nn.Conv2d(ndf * 8, 1, 4, 2, 0, bias=False),\n",
    "                nn.Sigmoid()\n",
    "            )\n",
    "\n",
    "        def forward(self, input):\n",
    "            return self.main(input)\n",
    "    print('UNets')"
   ]
  },
  {
   "cell_type": "markdown",
   "metadata": {},
   "source": [
    "# Inference of test dataset"
   ]
  },
  {
   "cell_type": "code",
   "execution_count": 37,
   "metadata": {},
   "outputs": [
    {
     "name": "stdout",
     "output_type": "stream",
     "text": [
      "<class 'list'>\n",
      "20400\n",
      "20400\n"
     ]
    },
    {
     "data": {
      "image/png": "[encoded data removed]",
      "text/plain": [
       "<Figure size 432x288 with 1 Axes>"
      ]
     },
     "metadata": {
      "needs_background": "light"
     },
     "output_type": "display_data"
    },
    {
     "data": {
      "image/png": "[encoded data removed]",
      "text/plain": [
       "<Figure size 432x288 with 1 Axes>"
      ]
     },
     "metadata": {
      "needs_background": "light"
     },
     "output_type": "display_data"
    }
   ],
   "source": [
    "if modtype=='3L_CNN_8af' or modtype=='3L_CNN_4af':\n",
    "    model=CNN_3L().to(device)\n",
    "elif modtype=='4L_CNN_8af' or modtype=='4L_CNN_4af':\n",
    "    model=CNN_4L().to(device)    \n",
    "elif modtype=='UNet_8af' or modtype=='DCGAN':\n",
    "    cmodel=Generator(1,1).to(device)\n",
    "\n",
    "checkpoint=(torch.load(model_base_path+'/'+best_model))\n",
    "model.load_state_dict(checkpoint['model_state_dict'])\n",
    "losses=checkpoint['Loss']\n",
    "\n",
    "SSIMval=checkpoint['SSIM']\n",
    "print(type(losses))\n",
    "print(len(losses))\n",
    "print(len(SSIMval))\n",
    "plt.plot(range(len(losses)),losses,label=\"Training loss\")\n",
    "plt.xlabel(\"backprops\")\n",
    "plt.ylabel(\"MSE_Loss\")\n",
    "plt.show()\n",
    "plt.plot(range(len(SSIMval)),SSIMval,label=\"SSIM loss\")\n",
    "plt.xlabel(\"2xbackprops\")\n",
    "plt.ylabel(\"SSIM_Loss\")\n",
    "plt.show()\n"
   ]
  },
  {
   "cell_type": "code",
   "execution_count": 29,
   "metadata": {},
   "outputs": [],
   "source": [
    "#print(model)\n",
    "norm=1e-6\n",
    "def kspace2real(data):\n",
    "    return T.complex_abs(T.ifft2(T.to_tensor(data)))/norm\n",
    "#h5name='file1000990.h5'\n",
    "for tfname in sorted(os.listdir(test_file_path)):\n",
    "    #print(tfname)\n",
    "\n",
    "    with h5py.File(test_file_path+'/'+tfname,  \"r\") as hf:\n",
    "        volume_kspace_4af = hf['kspace_4af'][()]\n",
    "        #print(f'{tfname} 4af 8af',volume_kspace_4af.shape, volume_kspace_8af.shape)\n",
    "\n",
    "        inp=kspace2real(volume_kspace_4af)\n",
    "        Shape=inp.shape\n",
    "        #print(Shape)\n",
    "\n",
    "        hf=h5py.File('rec_'+tfname,'w')\n",
    "        dset = hf.create_dataset(\"Rec_GAN03_4af\", (Shape[0],1,Shape[1],Shape[2]))\n",
    "        inp_und=inp.view(Shape[0],1,Shape[1],Shape[2]).to(device)\n",
    "        for slices in range(0,Shape[0]):\n",
    "            # Reconstruct the Image by passing undersampled image to the Network\n",
    "            dset[slices:slices+1]=torch.Tensor.cpu(model(inp_und[slices:slices+1]).to(device)).detach().numpy()\n",
    "        #print(inp_und[:].shape)\n",
    "    hf.close()    \n",
    "   \n",
    "    \n",
    "    "
   ]
  },
  {
   "cell_type": "code",
   "execution_count": null,
   "metadata": {},
   "outputs": [],
   "source": [
    "plt.figure(figsize=(15,15))\n",
    "plt.subplot(1,2,1)\n",
    "plt.axis(\"off\")\n",
    "plt.title(\"Undersampled Images 4af\")\n",
    "plt.imshow(torch.Tensor.cpu(inp_und[11][0]),cmap='gray')\n",
    "plt.subplot(1,2,2)\n",
    "plt.axis(\"off\")\n",
    "plt.title(\"Recon Images 4af\")\n",
    "plt.imshow(torch.Tensor.cpu(IR_4af[1][0]).detach(),cmap='gray')"
   ]
  },
  {
   "cell_type": "code",
   "execution_count": 30,
   "metadata": {},
   "outputs": [
    {
     "ename": "ValueError",
     "evalue": "Not a dataset (not a dataset)",
     "output_type": "error",
     "traceback": [
      "\u001b[0;31m---------------------------------------------------------------------------\u001b[0m",
      "\u001b[0;31mValueError\u001b[0m                                Traceback (most recent call last)",
      "\u001b[0;32m<ipython-input-30-d5570a68884c>\u001b[0m in \u001b[0;36m<module>\u001b[0;34m\u001b[0m\n\u001b[0;32m----> 1\u001b[0;31m \u001b[0mprint\u001b[0m\u001b[0;34m(\u001b[0m\u001b[0mdset\u001b[0m\u001b[0;34m.\u001b[0m\u001b[0mshape\u001b[0m\u001b[0;34m)\u001b[0m\u001b[0;34m\u001b[0m\u001b[0;34m\u001b[0m\u001b[0m\n\u001b[0m",
      "\u001b[0;32mh5py/_objects.pyx\u001b[0m in \u001b[0;36mh5py._objects.with_phil.wrapper\u001b[0;34m()\u001b[0m\n",
      "\u001b[0;32mh5py/_objects.pyx\u001b[0m in \u001b[0;36mh5py._objects.with_phil.wrapper\u001b[0;34m()\u001b[0m\n",
      "\u001b[0;32m/bham/modules/roots/neural-comp/2019-20/lib64/python3.6/site-packages/h5py/_hl/dataset.py\u001b[0m in \u001b[0;36mshape\u001b[0;34m(self)\u001b[0m\n\u001b[1;32m    284\u001b[0m     \u001b[0;32mdef\u001b[0m \u001b[0mshape\u001b[0m\u001b[0;34m(\u001b[0m\u001b[0mself\u001b[0m\u001b[0;34m)\u001b[0m\u001b[0;34m:\u001b[0m\u001b[0;34m\u001b[0m\u001b[0;34m\u001b[0m\u001b[0m\n\u001b[1;32m    285\u001b[0m         \u001b[0;34m\"\"\"Numpy-style shape tuple giving dataset dimensions\"\"\"\u001b[0m\u001b[0;34m\u001b[0m\u001b[0;34m\u001b[0m\u001b[0m\n\u001b[0;32m--> 286\u001b[0;31m         \u001b[0;32mreturn\u001b[0m \u001b[0mself\u001b[0m\u001b[0;34m.\u001b[0m\u001b[0mid\u001b[0m\u001b[0;34m.\u001b[0m\u001b[0mshape\u001b[0m\u001b[0;34m\u001b[0m\u001b[0;34m\u001b[0m\u001b[0m\n\u001b[0m\u001b[1;32m    287\u001b[0m     \u001b[0;34m@\u001b[0m\u001b[0mshape\u001b[0m\u001b[0;34m.\u001b[0m\u001b[0msetter\u001b[0m\u001b[0;34m\u001b[0m\u001b[0;34m\u001b[0m\u001b[0m\n\u001b[1;32m    288\u001b[0m     \u001b[0;34m@\u001b[0m\u001b[0mwith_phil\u001b[0m\u001b[0;34m\u001b[0m\u001b[0;34m\u001b[0m\u001b[0m\n",
      "\u001b[0;32mh5py/h5d.pyx\u001b[0m in \u001b[0;36mh5py.h5d.DatasetID.shape.__get__\u001b[0;34m()\u001b[0m\n",
      "\u001b[0;32mh5py/h5d.pyx\u001b[0m in \u001b[0;36mh5py.h5d.DatasetID.shape.__get__\u001b[0;34m()\u001b[0m\n",
      "\u001b[0;32mh5py/_objects.pyx\u001b[0m in \u001b[0;36mh5py._objects.with_phil.wrapper\u001b[0;34m()\u001b[0m\n",
      "\u001b[0;32mh5py/_objects.pyx\u001b[0m in \u001b[0;36mh5py._objects.with_phil.wrapper\u001b[0;34m()\u001b[0m\n",
      "\u001b[0;32mh5py/h5d.pyx\u001b[0m in \u001b[0;36mh5py.h5d.DatasetID.get_space\u001b[0;34m()\u001b[0m\n",
      "\u001b[0;31mValueError\u001b[0m: Not a dataset (not a dataset)"
     ]
    }
   ],
   "source": [
    "print(dset.shape)"
   ]
  },
  {
   "cell_type": "code",
   "execution_count": null,
   "metadata": {},
   "outputs": [],
   "source": []
  }
 ],
 "metadata": {
  "kernelspec": {
   "display_name": "Python 3",
   "language": "python",
   "name": "python3"
  },
  "language_info": {
   "codemirror_mode": {
    "name": "ipython",
    "version": 3
   },
   "file_extension": ".py",
   "mimetype": "text/x-python",
   "name": "python",
   "nbconvert_exporter": "python",
   "pygments_lexer": "ipython3",
   "version": "3.6.9"
  }
 },
 "nbformat": 4,
 "nbformat_minor": 2
}
